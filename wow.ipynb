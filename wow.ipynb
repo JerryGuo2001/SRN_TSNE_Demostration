{
 "cells": [
  {
   "cell_type": "code",
   "execution_count": 1,
   "metadata": {},
   "outputs": [],
   "source": [
    "import pandas as pd\n",
    "df = pd.read_csv(\"graph_dataset_n10_pca_tsne_5000.csv\")\n",
    "df[\"graph_structure\"] = df[\"graph_structure\"].apply(eval)  # Convert string to list if needed\n",
    "df.to_json(\"graph_dataset_n10_pca_tsne_5000.json\", orient=\"records\")"
   ]
  }
 ],
 "metadata": {
  "kernelspec": {
   "display_name": "base",
   "language": "python",
   "name": "python3"
  },
  "language_info": {
   "codemirror_mode": {
    "name": "ipython",
    "version": 3
   },
   "file_extension": ".py",
   "mimetype": "text/x-python",
   "name": "python",
   "nbconvert_exporter": "python",
   "pygments_lexer": "ipython3",
   "version": "3.11.5"
  }
 },
 "nbformat": 4,
 "nbformat_minor": 2
}
